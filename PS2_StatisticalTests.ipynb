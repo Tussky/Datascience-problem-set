{
 "cells": [
  {
   "cell_type": "markdown",
   "id": "965a1efc",
   "metadata": {},
   "source": [
    "# Statistical Tests\n",
    "\n",
    "Name: \n",
    "\n",
    "Date: "
   ]
  },
  {
   "cell_type": "markdown",
   "id": "027cef5f",
   "metadata": {},
   "source": [
    "## Hypothesis Tests\n",
    "\n",
    "### Means\n",
    "1. Identify 5 theologically salient lemmas from the top 20 lemmas (end of PS1) and compute per verse rates by book.\n",
    "2. Are the per-verse rates between Synoptic Gospels and John the same for all 5 lemmas.\n",
    "3. Report effect sizes using Cohen's d along with confidence intervals.\n",
    "4. Correct these results for multiple tests using the Bonferroni correction.\n",
    "5. Correct these results for multiple tests using the Benjamini-Hochberg correction.\n",
    "6. Why are the numbers from the Bonferroni correction different from the Benjamini-Hochberg correction? Which results should you use and why?\n",
    "\n",
    "### Proportion\n",
    "7. Are the proportion of term presence vs term absence in verse the same between Synoptic Gospels and John for all 5 lemmas?\n",
    "8. Report effect sizes using Cohen's d along with confidence intervals.\n",
    "9. Correct these results for multiple tests using the Bonferroni correction.\n",
    "10. Correct these results for multiple tests using the Benjamini-Hochberg correction.\n",
    "6. Why are the numbers from the Bonferroni correction different from the Benjamini-Hochberg correction? Which results should you use and why?"
   ]
  },
  {
   "cell_type": "markdown",
   "id": "e7d8f7dd",
   "metadata": {},
   "source": [
    "### ANOVA\n",
    "12. Do a term rate ANOVA comparison on a theologically salient lemma from the top 20 lemmas across the following groups: {Matthew and Mark, Luke and Acts, Johannine books, Pauline books, all other books}\n",
    "13. Perform a Post-hoc Tukey HSD to see which pairs differ\n",
    "\n",
    "### Chi-square Test\n",
    "14. Build a 2xk contingency table for collocation: presence of target term vs top-k companion terms within verse.\n",
    "15. Run Chi-square tests of independence; compute standardized residuals to find surprising co-occurrences\n",
    "16. Visualize a heatmap of residuals\n",
    "17. Explain results\n",
    "\n",
    "18. Repeat the ANOVA and Chi-square test sections for 2 other terms."
   ]
  },
  {
   "cell_type": "markdown",
   "id": "40da04b0",
   "metadata": {},
   "source": [
    "## Power Analysis Extension\n",
    "\n",
    "18. Conduct a power analysis for the question in #7 to determine how many verses are needed to detect the specified effect.\n",
    "13. Simulate the answer.\n",
    "    <ol type=\"a\">\n",
    "    <li>Simulate n verses with the proportions found in #8 for Synoptic Gospels and John. Do a test to see if significantly different and save this result.</li>\n",
    "    <li>Repeat step a many times.</li>\n",
    "    <li>Calculate power: power = (number of significant findings) / (total simulations)</li>\n",
    "    <li>Repeat steps a-c for a different n.</li>\n",
    "    <li>Plot power as a function of number of verses.</li>\n",
    "    <li>At what number of verses is the power at least 80%? i.e. This is the number of verses you need per text to have an 80% chance of detecting the effect if it's really there.</li>\n",
    "    </ol>"
   ]
  },
  {
   "cell_type": "markdown",
   "id": "c1e26cce",
   "metadata": {},
   "source": [
    "## Sliding Windows Stretch\n",
    "21. Repeat ANOVA and Chi-square sections on the same three theological terms, but instead of using verse boundaries, use sliding windows (+/- n tokens)\n",
    "22. How do results of verse boundaries compare to using sliding windows?"
   ]
  }
 ],
 "metadata": {
  "language_info": {
   "name": "python"
  }
 },
 "nbformat": 4,
 "nbformat_minor": 5
}
